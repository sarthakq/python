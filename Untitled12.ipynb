{
 "cells": [
  {
   "cell_type": "code",
   "execution_count": 1,
   "metadata": {},
   "outputs": [
    {
     "name": "stdout",
     "output_type": "stream",
     "text": [
      "enter first number : 4\n",
      "enter second number : 3\n",
      "Enter which operation would you like to perform?\n",
      "Enter any of these char for specific operation 1,2,3,4 : 3\n",
      "4 3 3 : 12\n"
     ]
    }
   ],
   "source": [
    "num1 = input('enter first number : ')\n",
    "num2 = input('enter second number : ')\n",
    "num1 = int(num1)\n",
    "num2 = int(num2)\n",
    "\n",
    "print('Enter which operation would you like to perform?')\n",
    "\n",
    "op = input(\"Enter any of these char for specific operation 1,2,3,4 : \")\n",
    "\n",
    "result = 0\n",
    "\n",
    "if op == '1':\n",
    "    result = num1 + num2\n",
    "elif op == '2':\n",
    "    reult = num1 - num2\n",
    "elif op == '3':\n",
    "    result = num1 * num2\n",
    "elif op == '4':\n",
    "    result = num1 / num2\n",
    "else:\n",
    "    print('invalid syntax')\n",
    "\n",
    "print(num1, op, num2, ':', result)"
   ]
  },
  {
   "cell_type": "code",
   "execution_count": null,
   "metadata": {},
   "outputs": [],
   "source": []
  }
 ],
 "metadata": {
  "kernelspec": {
   "display_name": "Python 3",
   "language": "python",
   "name": "python3"
  },
  "language_info": {
   "codemirror_mode": {
    "name": "ipython",
    "version": 3
   },
   "file_extension": ".py",
   "mimetype": "text/x-python",
   "name": "python",
   "nbconvert_exporter": "python",
   "pygments_lexer": "ipython3",
   "version": "3.7.6"
  }
 },
 "nbformat": 4,
 "nbformat_minor": 4
}
